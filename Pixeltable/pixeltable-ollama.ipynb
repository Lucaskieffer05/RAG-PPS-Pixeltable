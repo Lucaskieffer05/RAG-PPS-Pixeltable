{
 "cells": [
  {
   "cell_type": "code",
   "execution_count": 1,
   "metadata": {},
   "outputs": [
    {
     "data": {
      "text/plain": [
       "'La capital de Buenos Aires fue declarada una ciudad de estado en 1976, cuando Argentina adoptó el sistema parlamentario. Es importante tener en cuenta que hoy en día, la capital del país es Nueva York.\\n\\nAlgunas observaciones adicionales sobre Buenos Aires:\\n\\n1. La Ciudad de las Cien y Tres (la Ciudad de Buenos Aires) es el lugar más visitado por los turistas y la ciudad tiene un rango de población entre 30-45 millones.\\n\\n2. Buenos Aires es conocida como \"el parque del lago\" debido a su apreciado lago Argentino, que forma parte del Parque Nacional Argentino.\\n\\n3. Los artistas y los maestros de arte argentinos nacieron en la ciudad, y se considera una mezcla de ciencias naturales, artesanato y política europeo. \\n\\n4. Buenos Aires es famosa por su arte visual y sus numerosos museos y galerías.\\n\\n5. La Ciudad de las Cien y Tres (la Ciudad de Buenos Aires) es la primera capital en el mundo que fue una ciudad de estado.\\n\\n6. Desde 2019, Argentina ha adoptado el sistema parlamentario, lo que significa que en lugar de gobernar por turno, cada cuatro años se aplica a todos los órganos y departamentos del gobierno nacional.\\n\\nEs importante recordar que la historia y cultura de Buenos Aires son parte de la historia universal.'"
      ]
     },
     "execution_count": 1,
     "metadata": {},
     "output_type": "execute_result"
    }
   ],
   "source": [
    "import ollama\n",
    "\n",
    "ollama.pull('qwen2.5:0.5b')\n",
    "ollama.generate('qwen2.5:0.5b', 'Cual es la capital de buenos aires?')['response']"
   ]
  },
  {
   "cell_type": "code",
   "execution_count": 2,
   "metadata": {},
   "outputs": [
    {
     "name": "stdout",
     "output_type": "stream",
     "text": [
      "Connected to Pixeltable database at: postgresql+psycopg://postgres:@127.0.0.1:59221/pixeltable\n",
      "Created directory 'ollama_demo'.\n",
      "Created table `chat`.\n",
      "Added 0 column values with 0 errors.\n",
      "Added 0 column values with 0 errors.\n"
     ]
    },
    {
     "data": {
      "text/plain": [
       "UpdateStatus(num_rows=0, num_computed_values=0, num_excs=0, updated_cols=[], cols_with_excs=[])"
      ]
     },
     "execution_count": 2,
     "metadata": {},
     "output_type": "execute_result"
    }
   ],
   "source": [
    "import pixeltable as pxt\n",
    "from pixeltable.functions.ollama import chat\n",
    "\n",
    "pxt.drop_dir('ollama_demo', force=True)\n",
    "pxt.create_dir('ollama_demo')\n",
    "t = pxt.create_table('ollama_demo.chat', {'input': pxt.String})\n",
    "\n",
    "messages = [{'role': 'user', 'content': t.input}]\n",
    "\n",
    "t.add_computed_column(output=chat(\n",
    "    messages=messages,\n",
    "    model='qwen2.5:0.5b',\n",
    "    # These parameters are optional and can be used to tune model behavior:\n",
    "    options={'max_tokens': 300, 'top_p': 0.9, 'temperature': 0.5},\n",
    "))\n",
    "\n",
    "# Extract the response content into a separate column\n",
    "\n",
    "t.add_computed_column(response=t.output.message.content)"
   ]
  },
  {
   "cell_type": "code",
   "execution_count": 3,
   "metadata": {},
   "outputs": [
    {
     "name": "stdout",
     "output_type": "stream",
     "text": [
      "Inserting rows into `chat`: 1 rows [00:00, 451.97 rows/s]\n",
      "Inserted 1 row with 0 errors.\n"
     ]
    },
    {
     "data": {
      "text/html": [
       "<table border=\"1\" class=\"dataframe\">\n",
       "  <thead>\n",
       "    <tr style=\"text-align: right;\">\n",
       "      <th>input</th>\n",
       "      <th>response</th>\n",
       "    </tr>\n",
       "  </thead>\n",
       "  <tbody>\n",
       "    <tr>\n",
       "      <td>What are the most popular services for LLM inference?</td>\n",
       "      <td>LLM inference is an important area of research and development in natural language processing (NLP). The most popular services for LLM inference include:\n",
       "\n",
       "1. **LLM Inference Engines**: These engines are specialized tools designed to process large amounts of text data, such as documents, articles, or web pages. Examples of these engines include:\n",
       "   - **Hugging Face&#x27;s Transformers**: This is the official library for transformers, which provides a wide range of models and architectures.\n",
       "   - ** ...... nd categorizes named entities in text.\n",
       "\n",
       "10. **LLM Inference Services for Specific Use Cases**:\n",
       "    - **LLM Inference via Sentiment Analysis**: These are useful when you need to analyze the sentiment of large texts.\n",
       "    - **LLM Inference via NLP for Article Summarization**: This is used when summarizing articles or news.\n",
       "\n",
       "These services and APIs provide a broad range of capabilities for LLM inference, from basic text processing to more complex tasks like code generation and document analysis.</td>\n",
       "    </tr>\n",
       "  </tbody>\n",
       "</table>"
      ],
      "text/plain": [
       "                                               input  \\\n",
       "0  What are the most popular services for LLM inf...   \n",
       "\n",
       "                                            response  \n",
       "0  LLM inference is an important area of research...  "
      ]
     },
     "execution_count": 3,
     "metadata": {},
     "output_type": "execute_result"
    }
   ],
   "source": [
    "# Start a conversation\n",
    "t.insert(input='What are the most popular services for LLM inference?')\n",
    "t.select(t.input, t.response).show()"
   ]
  },
  {
   "cell_type": "code",
   "execution_count": null,
   "metadata": {},
   "outputs": [],
   "source": []
  }
 ],
 "metadata": {
  "kernelspec": {
   "display_name": "env",
   "language": "python",
   "name": "python3"
  },
  "language_info": {
   "codemirror_mode": {
    "name": "ipython",
    "version": 3
   },
   "file_extension": ".py",
   "mimetype": "text/x-python",
   "name": "python",
   "nbconvert_exporter": "python",
   "pygments_lexer": "ipython3",
   "version": "3.12.8"
  }
 },
 "nbformat": 4,
 "nbformat_minor": 4
}
