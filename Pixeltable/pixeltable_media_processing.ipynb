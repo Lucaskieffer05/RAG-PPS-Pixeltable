{
 "cells": [
  {
   "cell_type": "markdown",
   "metadata": {},
   "source": [
    "# Pixeltable Media Processing Demo\n",
    "\n",
    "This notebook demonstrates how to use the ImageProcessor and VideoProcessor classes to process and search media content."
   ]
  },
  {
   "cell_type": "code",
   "execution_count": 2,
   "metadata": {},
   "outputs": [
    {
     "name": "stdout",
     "output_type": "stream",
     "text": [
      "Directorio de archivos: C:\\Dev\\PPS\\Pixeltable\n"
     ]
    }
   ],
   "source": [
    "import os\n",
    "import sys\n",
    "from image_video_processor import ImageProcessor, VideoProcessor\n",
    "import PIL.Image\n",
    "import glob\n",
    "\n",
    "current_path = os.getcwd()\n",
    "print(f\"Directorio de archivos: {current_path}\")"
   ]
  },
  {
   "cell_type": "markdown",
   "metadata": {},
   "source": [
    "## Configuración\n",
    "\n",
    "Directorios para las imágenes y videos. Así como query para búsqueda de imágenes por texto y por similaridad de imagen."
   ]
  },
  {
   "cell_type": "code",
   "execution_count": 3,
   "metadata": {},
   "outputs": [
    {
     "name": "stdout",
     "output_type": "stream",
     "text": [
      "Procesamiento hecho\n"
     ]
    }
   ],
   "source": [
    "# Parámetros\n",
    "images_directory = \"../Media/Images/cars/\"\n",
    "videos_directory = \"../Media/Videos/\"\n",
    "search_query = \"white car\"  # Query to search for in videos\n",
    "search_image_path = \"Media/Images/cars/1478020796209432542.jpg\"  # Query image\n",
    "\n",
    "\n",
    "# Validaciones\n",
    "if not os.path.exists(images_directory):\n",
    "    print(f\"Warning: Directorio de imágenes {images_directory} no encontrado. Creándolo.\")\n",
    "    os.makedirs(images_directory, exist_ok=True)\n",
    "    \n",
    "if not os.path.exists(videos_directory):\n",
    "    print(f\"Warning: Directorio de vidoes {videos_directory} no encontrado. Creaándolo.\")\n",
    "    os.makedirs(videos_directory, exist_ok=True)\n",
    "\n",
    "print(\"Procesamiento hecho\")"
   ]
  },
  {
   "cell_type": "markdown",
   "metadata": {},
   "source": [
    "## Procesamiento de imágenes\n",
    "\n",
    "Process images from the specified directory using the ImageProcessor."
   ]
  },
  {
   "cell_type": "code",
   "execution_count": 3,
   "metadata": {},
   "outputs": [
    {
     "name": "stdout",
     "output_type": "stream",
     "text": [
      "Encontradas 22241 imágenes en el directorio ../Media/Images/cars/\n",
      " - 1478019952686311006.jpg\n",
      " - 1478019953180167674.jpg\n",
      " - 1478019953689774621.jpg\n",
      " - 1478019954186238236.jpg\n",
      " - 1478019954685370994.jpg\n",
      " ... and 22236 more\n"
     ]
    }
   ],
   "source": [
    "# Lista de imágenes\n",
    "image_files = glob.glob(os.path.join(images_directory, \"*.*\"))\n",
    "print(f\"Encontradas {len(image_files)} imágenes en el directorio {images_directory}\")\n",
    "for img in image_files[:5]:  # Muestra los 5 primeros\n",
    "    print(f\" - {os.path.basename(img)}\")\n",
    "if len(image_files) > 5:\n",
    "    print(f\" ... and {len(image_files) - 5} more\")"
   ]
  },
  {
   "cell_type": "code",
   "execution_count": 4,
   "metadata": {},
   "outputs": [
    {
     "name": "stdout",
     "output_type": "stream",
     "text": [
      "Connected to Pixeltable database at: postgresql+psycopg://postgres:@127.0.0.1:51584/pixeltable\n",
      "Created table `images`.\n",
      "Added 0 column values with 0 errors.\n",
      "Added 0 column values with 0 errors.\n",
      "Added 0 column values with 0 errors.\n"
     ]
    },
    {
     "data": {
      "application/vnd.jupyter.widget-view+json": {
       "model_id": "c61a52a485d148a0b5d8a941b0d3e9c1",
       "version_major": 2,
       "version_minor": 0
      },
      "text/plain": [
       "config.json:   0%|          | 0.00/4.19k [00:00<?, ?B/s]"
      ]
     },
     "metadata": {},
     "output_type": "display_data"
    },
    {
     "data": {
      "application/vnd.jupyter.widget-view+json": {
       "model_id": "50e47d0a757043c1a6fb5a1c1a5b70db",
       "version_major": 2,
       "version_minor": 0
      },
      "text/plain": [
       "pytorch_model.bin:   0%|          | 0.00/605M [00:00<?, ?B/s]"
      ]
     },
     "metadata": {},
     "output_type": "display_data"
    },
    {
     "name": "stdout",
     "output_type": "stream",
     "text": [
      "Setup terminado\n"
     ]
    }
   ],
   "source": [
    "# Inicializa el procesador de imágenes\n",
    "image_processor = ImageProcessor()\n",
    "image_processor.setup_processing(extract_text=True, enable_search=True)\n",
    "\n",
    "print(\"Setup terminado\")"
   ]
  },
  {
   "cell_type": "code",
   "execution_count": 7,
   "metadata": {},
   "outputs": [
    {
     "name": "stdout",
     "output_type": "stream",
     "text": [
      "Searching for images matching text: 'white car'\n",
      "Found 0 matching images\n"
     ]
    },
    {
     "ename": "Error",
     "evalue": "Bad index: slice(None, 3, None)",
     "output_type": "error",
     "traceback": [
      "\u001b[31m---------------------------------------------------------------------------\u001b[39m",
      "\u001b[31mError\u001b[39m                                     Traceback (most recent call last)",
      "\u001b[36mCell\u001b[39m\u001b[36m \u001b[39m\u001b[32mIn[7]\u001b[39m\u001b[32m, line 7\u001b[39m\n\u001b[32m      4\u001b[39m \u001b[38;5;28mprint\u001b[39m(\u001b[33mf\u001b[39m\u001b[33m\"\u001b[39m\u001b[33mFound \u001b[39m\u001b[38;5;132;01m{\u001b[39;00m\u001b[38;5;28mlen\u001b[39m(text_search_results)\u001b[38;5;132;01m}\u001b[39;00m\u001b[33m matching images\u001b[39m\u001b[33m\"\u001b[39m)\n\u001b[32m      6\u001b[39m \u001b[38;5;66;03m# Muestra resultados\u001b[39;00m\n\u001b[32m----> \u001b[39m\u001b[32m7\u001b[39m \u001b[38;5;28;01mfor\u001b[39;00m i, result \u001b[38;5;129;01min\u001b[39;00m \u001b[38;5;28menumerate\u001b[39m(\u001b[43mtext_search_results\u001b[49m\u001b[43m[\u001b[49m\u001b[43m:\u001b[49m\u001b[32;43m3\u001b[39;49m\u001b[43m]\u001b[49m):\n\u001b[32m      8\u001b[39m     display(result.image)\n\u001b[32m      9\u001b[39m     \u001b[38;5;28mprint\u001b[39m(\u001b[33mf\u001b[39m\u001b[33m\"\u001b[39m\u001b[33mResult \u001b[39m\u001b[38;5;132;01m{\u001b[39;00mi+\u001b[32m1\u001b[39m\u001b[38;5;132;01m}\u001b[39;00m\u001b[33m:\u001b[39m\u001b[33m\"\u001b[39m)\n",
      "\u001b[36mFile \u001b[39m\u001b[32mC:\\Dev\\PPS\\env\\Lib\\site-packages\\pixeltable\\dataframe.py:86\u001b[39m, in \u001b[36mDataFrameResultSet.__getitem__\u001b[39m\u001b[34m(self, index)\u001b[39m\n\u001b[32m     84\u001b[39m     col_idx = \u001b[38;5;28mself\u001b[39m._col_names.index(index[\u001b[32m1\u001b[39m]) \u001b[38;5;28;01mif\u001b[39;00m \u001b[38;5;28misinstance\u001b[39m(index[\u001b[32m1\u001b[39m], \u001b[38;5;28mstr\u001b[39m) \u001b[38;5;28;01melse\u001b[39;00m index[\u001b[32m1\u001b[39m]\n\u001b[32m     85\u001b[39m     \u001b[38;5;28;01mreturn\u001b[39;00m \u001b[38;5;28mself\u001b[39m._rows[index[\u001b[32m0\u001b[39m]][col_idx]\n\u001b[32m---> \u001b[39m\u001b[32m86\u001b[39m \u001b[38;5;28;01mraise\u001b[39;00m excs.Error(\u001b[33mf\u001b[39m\u001b[33m'\u001b[39m\u001b[33mBad index: \u001b[39m\u001b[38;5;132;01m{\u001b[39;00mindex\u001b[38;5;132;01m}\u001b[39;00m\u001b[33m'\u001b[39m)\n",
      "\u001b[31mError\u001b[39m: Bad index: slice(None, 3, None)"
     ]
    }
   ],
   "source": [
    "# Búsqueda con la query de texto\n",
    "print(f\"Searching for images matching text: '{search_query}'\")\n",
    "text_search_results = image_processor.search(\"Text\", text_query=search_query)\n",
    "print(f\"Found {len(text_search_results)} matching images\")\n",
    "\n",
    "# Muestra resultados\n",
    "for i, result in enumerate(text_search_results[:3]):\n",
    "    display(result.image)\n",
    "    print(f\"Result {i+1}:\")\n",
    "    if hasattr(result, 'license_plate_text') and result.license_plate_text:\n",
    "        print(f\"License plate text: {result.license_plate_text}\")"
   ]
  },
  {
   "cell_type": "code",
   "execution_count": 8,
   "metadata": {},
   "outputs": [
    {
     "name": "stdout",
     "output_type": "stream",
     "text": [
      "Query image not found at: Media/Images/cars/1478020796209432542.jpg\n"
     ]
    }
   ],
   "source": [
    "# Búsqueda con la image query\n",
    "if os.path.exists(search_image_path):\n",
    "    query_image = PIL.Image.open(search_image_path)\n",
    "    print(f\"Searching for images similar to: {os.path.basename(search_image_path)}\")\n",
    "    display(query_image)\n",
    "    \n",
    "    image_search_results = image_processor.search(\"Image\", image_query=query_image)\n",
    "    print(f\"Found {len(image_search_results)} similar images\")\n",
    "    \n",
    "    # muestra resultados\n",
    "    for i, result in enumerate(image_search_results[:3]):\n",
    "        display(result.image)\n",
    "        print(f\"Result {i+1}:\")\n",
    "        if hasattr(result, 'license_plate_text') and result.license_plate_text:\n",
    "            print(f\"License plate text: {result.license_plate_text}\")\n",
    "else:\n",
    "    print(f\"Query image not found at: {search_image_path}\")"
   ]
  },
  {
   "cell_type": "markdown",
   "metadata": {},
   "source": [
    "## Video Processing\n",
    "\n",
    "Process videos from the specified directory using the VideoProcessor."
   ]
  },
  {
   "cell_type": "code",
   "execution_count": 4,
   "metadata": {},
   "outputs": [
    {
     "name": "stdout",
     "output_type": "stream",
     "text": [
      "Found 3 videos in ../Media/Videos/\n",
      " - NovosobornayaSquare_1920x1080.mp4\n",
      " - TheaterSquare_1280x720.mp4\n",
      " - TSU_1920x1080.mp4\n"
     ]
    }
   ],
   "source": [
    "# List de videos disponibles\n",
    "video_files = glob.glob(os.path.join(videos_directory, \"*.*\"))\n",
    "print(f\"Found {len(video_files)} videos in {videos_directory}\")\n",
    "for vid in video_files[:5]:  \n",
    "    print(f\" - {os.path.basename(vid)}\")\n",
    "if len(video_files) > 5:\n",
    "    print(f\" ... and {len(video_files) - 5} more\")"
   ]
  },
  {
   "cell_type": "code",
   "execution_count": 5,
   "metadata": {},
   "outputs": [
    {
     "name": "stdout",
     "output_type": "stream",
     "text": [
      "Connected to Pixeltable database at: postgresql+psycopg://postgres:@127.0.0.1:51584/pixeltable\n",
      "Created view `frames` with 0 rows, 0 exceptions.\n",
      "Added 0 column values with 0 errors.\n",
      "Added 0 column values with 0 errors.\n",
      "Added 0 column values with 0 errors.\n"
     ]
    }
   ],
   "source": [
    "# Inicializa el procesador de videos\n",
    "video_processor = VideoProcessor()\n",
    "video_processor.setup_processing(extract_text=True, enable_search=True)\n",
    "\n",
    "print(\"Procesamiento hecho\")"
   ]
  },
  {
   "cell_type": "code",
   "execution_count": 6,
   "metadata": {},
   "outputs": [
    {
     "name": "stdout",
     "output_type": "stream",
     "text": [
      "Searching for video frames matching text: 'white car'\n"
     ]
    },
    {
     "name": "stderr",
     "output_type": "stream",
     "text": [
      "Using a slow image processor as `use_fast` is unset and a slow processor was saved with this model. `use_fast=True` will be the default behavior in v4.52, even if the model was saved with a slow processor. This will result in minor differences in outputs. You'll still be able to use a slow processor with `use_fast=False`.\n"
     ]
    },
    {
     "name": "stdout",
     "output_type": "stream",
     "text": [
      "Found 0 matching frames\n"
     ]
    },
    {
     "ename": "Error",
     "evalue": "Bad index: slice(None, 3, None)",
     "output_type": "error",
     "traceback": [
      "\u001b[31m---------------------------------------------------------------------------\u001b[39m",
      "\u001b[31mError\u001b[39m                                     Traceback (most recent call last)",
      "\u001b[36mCell\u001b[39m\u001b[36m \u001b[39m\u001b[32mIn[6]\u001b[39m\u001b[32m, line 7\u001b[39m\n\u001b[32m      4\u001b[39m \u001b[38;5;28mprint\u001b[39m(\u001b[33mf\u001b[39m\u001b[33m\"\u001b[39m\u001b[33mFound \u001b[39m\u001b[38;5;132;01m{\u001b[39;00m\u001b[38;5;28mlen\u001b[39m(video_text_results)\u001b[38;5;132;01m}\u001b[39;00m\u001b[33m matching frames\u001b[39m\u001b[33m\"\u001b[39m)\n\u001b[32m      6\u001b[39m \u001b[38;5;66;03m# Muestra resultados\u001b[39;00m\n\u001b[32m----> \u001b[39m\u001b[32m7\u001b[39m \u001b[38;5;28;01mfor\u001b[39;00m i, result \u001b[38;5;129;01min\u001b[39;00m \u001b[38;5;28menumerate\u001b[39m(\u001b[43mvideo_text_results\u001b[49m\u001b[43m[\u001b[49m\u001b[43m:\u001b[49m\u001b[32;43m3\u001b[39;49m\u001b[43m]\u001b[49m):\n\u001b[32m      8\u001b[39m     display(result.frame)\n\u001b[32m      9\u001b[39m     \u001b[38;5;28mprint\u001b[39m(\u001b[33mf\u001b[39m\u001b[33m\"\u001b[39m\u001b[33mResult \u001b[39m\u001b[38;5;132;01m{\u001b[39;00mi+\u001b[32m1\u001b[39m\u001b[38;5;132;01m}\u001b[39;00m\u001b[33m from video position: \u001b[39m\u001b[38;5;132;01m{\u001b[39;00mresult.pos\u001b[38;5;132;01m:\u001b[39;00m\u001b[33m.2f\u001b[39m\u001b[38;5;132;01m}\u001b[39;00m\u001b[33ms\u001b[39m\u001b[33m\"\u001b[39m)\n",
      "\u001b[36mFile \u001b[39m\u001b[32mC:\\Dev\\PPS\\env\\Lib\\site-packages\\pixeltable\\dataframe.py:86\u001b[39m, in \u001b[36mDataFrameResultSet.__getitem__\u001b[39m\u001b[34m(self, index)\u001b[39m\n\u001b[32m     84\u001b[39m     col_idx = \u001b[38;5;28mself\u001b[39m._col_names.index(index[\u001b[32m1\u001b[39m]) \u001b[38;5;28;01mif\u001b[39;00m \u001b[38;5;28misinstance\u001b[39m(index[\u001b[32m1\u001b[39m], \u001b[38;5;28mstr\u001b[39m) \u001b[38;5;28;01melse\u001b[39;00m index[\u001b[32m1\u001b[39m]\n\u001b[32m     85\u001b[39m     \u001b[38;5;28;01mreturn\u001b[39;00m \u001b[38;5;28mself\u001b[39m._rows[index[\u001b[32m0\u001b[39m]][col_idx]\n\u001b[32m---> \u001b[39m\u001b[32m86\u001b[39m \u001b[38;5;28;01mraise\u001b[39;00m excs.Error(\u001b[33mf\u001b[39m\u001b[33m'\u001b[39m\u001b[33mBad index: \u001b[39m\u001b[38;5;132;01m{\u001b[39;00mindex\u001b[38;5;132;01m}\u001b[39;00m\u001b[33m'\u001b[39m)\n",
      "\u001b[31mError\u001b[39m: Bad index: slice(None, 3, None)"
     ]
    }
   ],
   "source": [
    "# Prueba con text query\n",
    "print(f\"Searching for video frames matching text: '{search_query}'\")\n",
    "video_text_results = video_processor.search(\"Text\", text_query=search_query)\n",
    "print(f\"Found {len(video_text_results)} matching frames\")\n",
    "\n",
    "# Muestra resultados\n",
    "for i, result in enumerate(video_text_results[:3]):\n",
    "    display(result.frame)\n",
    "    print(f\"Result {i+1} from video position: {result.pos:.2f}s\")\n",
    "    if hasattr(result, 'license_plate_text') and result.license_plate_text:\n",
    "        print(f\"License plate text: {result.license_plate_text}\")"
   ]
  },
  {
   "cell_type": "code",
   "execution_count": null,
   "metadata": {},
   "outputs": [],
   "source": [
    "# Prueba con image query\n",
    "if os.path.exists(search_image_path):\n",
    "    query_image = PIL.Image.open(search_image_path)\n",
    "    print(f\"Searching for video frames similar to: {os.path.basename(search_image_path)}\")\n",
    "    display(query_image)\n",
    "    \n",
    "    video_image_results = video_processor.search(\"Image\", image_query=query_image)\n",
    "    print(f\"Found {len(video_image_results)} similar frames\")\n",
    "    \n",
    "    # muestra resultados\n",
    "    for i, result in enumerate(video_image_results[:3]):\n",
    "        display(result.frame)\n",
    "        print(f\"Result {i+1} from video position: {result.pos:.2f}s\")\n",
    "        if hasattr(result, 'license_plate_text') and result.license_plate_text:\n",
    "            print(f\"License plate text: {result.license_plate_text}\")\n",
    "else:\n",
    "    print(f\"Query image not found at: {search_image_path}\")"
   ]
  }
 ],
 "metadata": {
  "kernelspec": {
   "display_name": "Python 3 (ipykernel)",
   "language": "python",
   "name": "python3"
  },
  "language_info": {
   "codemirror_mode": {
    "name": "ipython",
    "version": 3
   },
   "file_extension": ".py",
   "mimetype": "text/x-python",
   "name": "python",
   "nbconvert_exporter": "python",
   "pygments_lexer": "ipython3",
   "version": "3.12.5"
  }
 },
 "nbformat": 4,
 "nbformat_minor": 4
}
