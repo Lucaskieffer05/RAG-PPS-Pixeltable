{
 "cells": [
  {
   "cell_type": "markdown",
   "metadata": {},
   "source": [
    "# Pixeltable Media Processing Demo\n",
    "\n",
    "This notebook demonstrates how to use the ImageProcessor and VideoProcessor classes to process and search media content."
   ]
  },
  {
   "cell_type": "code",
   "execution_count": 1,
   "metadata": {},
   "outputs": [
    {
     "name": "stdout",
     "output_type": "stream",
     "text": [
      "Directorio de archivos: C:\\Dev\\PPS\\Pixeltable\n"
     ]
    }
   ],
   "source": [
    "import os\n",
    "import sys\n",
    "from image_video_processor import ImageProcessor, VideoProcessor\n",
    "import PIL.Image\n",
    "import glob\n",
    "\n",
    "current_path = os.getcwd()\n",
    "print(f\"Directorio de archivos: {current_path}\")"
   ]
  },
  {
   "cell_type": "markdown",
   "metadata": {},
   "source": [
    "## Configuración\n",
    "\n",
    "Directorios para las imágenes y videos. Así como query para búsqueda de imágenes por texto y por similaridad de imagen."
   ]
  },
  {
   "cell_type": "code",
   "execution_count": 2,
   "metadata": {},
   "outputs": [
    {
     "name": "stdout",
     "output_type": "stream",
     "text": [
      "Procesamiento hecho\n"
     ]
    }
   ],
   "source": [
    "# Parámetros\n",
    "images_directory = \"../Media/Images/cars/\"\n",
    "videos_directory = \"../Media/Videos/\"\n",
    "search_query = \"car\"  # Query to search for in videos\n",
    "search_image_path = \"Media/Images/cars/1478020796209432542.jpg\"  # Query image\n",
    "\n",
    "\n",
    "# Validaciones\n",
    "if not os.path.exists(images_directory):\n",
    "    print(f\"Warning: Directorio de imágenes {images_directory} no encontrado. Creándolo.\")\n",
    "    os.makedirs(images_directory, exist_ok=True)\n",
    "    \n",
    "if not os.path.exists(videos_directory):\n",
    "    print(f\"Warning: Directorio de vidoes {videos_directory} no encontrado. Creaándolo.\")\n",
    "    os.makedirs(videos_directory, exist_ok=True)\n",
    "\n",
    "print(\"Procesamiento hecho\")"
   ]
  },
  {
   "cell_type": "markdown",
   "metadata": {},
   "source": [
    "## Procesamiento de imágenes\n",
    "\n",
    "Process images from the specified directory using the ImageProcessor."
   ]
  },
  {
   "cell_type": "code",
   "execution_count": 3,
   "metadata": {},
   "outputs": [
    {
     "name": "stdout",
     "output_type": "stream",
     "text": [
      "Encontradas 22241 imágenes en el directorio ../Media/Images/cars/\n",
      " - 1478019952686311006.jpg\n",
      " - 1478019953180167674.jpg\n",
      " - 1478019953689774621.jpg\n",
      " - 1478019954186238236.jpg\n",
      " - 1478019954685370994.jpg\n",
      " ... and 22236 more\n"
     ]
    }
   ],
   "source": [
    "# Lista de imágenes\n",
    "image_files = glob.glob(os.path.join(images_directory, \"*.*\"))\n",
    "print(f\"Encontradas {len(image_files)} imágenes en el directorio {images_directory}\")\n",
    "for img in image_files[:5]:  # Muestra los 5 primeros\n",
    "    print(f\" - {os.path.basename(img)}\")\n",
    "if len(image_files) > 5:\n",
    "    print(f\" ... and {len(image_files) - 5} more\")"
   ]
  },
  {
   "cell_type": "code",
   "execution_count": 4,
   "metadata": {},
   "outputs": [
    {
     "name": "stdout",
     "output_type": "stream",
     "text": [
      "Connected to Pixeltable database at: postgresql+psycopg://postgres:@127.0.0.1:52390/pixeltable\n"
     ]
    },
    {
     "ename": "AttributeError",
     "evalue": "Column 'has_embedding_index' unknown",
     "output_type": "error",
     "traceback": [
      "\u001b[31m---------------------------------------------------------------------------\u001b[39m",
      "\u001b[31mAttributeError\u001b[39m                            Traceback (most recent call last)",
      "\u001b[36mCell\u001b[39m\u001b[36m \u001b[39m\u001b[32mIn[4]\u001b[39m\u001b[32m, line 3\u001b[39m\n\u001b[32m      1\u001b[39m \u001b[38;5;66;03m# Inicializa el procesador de imágenes\u001b[39;00m\n\u001b[32m      2\u001b[39m image_processor = ImageProcessor()\n\u001b[32m----> \u001b[39m\u001b[32m3\u001b[39m \u001b[43mimage_processor\u001b[49m\u001b[43m.\u001b[49m\u001b[43msetup_processing\u001b[49m\u001b[43m(\u001b[49m\u001b[43mextract_text\u001b[49m\u001b[43m=\u001b[49m\u001b[38;5;28;43;01mTrue\u001b[39;49;00m\u001b[43m,\u001b[49m\u001b[43m \u001b[49m\u001b[43menable_search\u001b[49m\u001b[43m=\u001b[49m\u001b[38;5;28;43;01mTrue\u001b[39;49;00m\u001b[43m)\u001b[49m\n\u001b[32m      5\u001b[39m \u001b[38;5;28mprint\u001b[39m(\u001b[33m\"\u001b[39m\u001b[33mSetup terminado\u001b[39m\u001b[33m\"\u001b[39m)\n",
      "\u001b[36mFile \u001b[39m\u001b[32mC:\\Dev\\PPS\\Pixeltable\\image_video_processor.py:96\u001b[39m, in \u001b[36mImageProcessor.setup_processing\u001b[39m\u001b[34m(self, extract_text, enable_search)\u001b[39m\n\u001b[32m     91\u001b[39m     \u001b[38;5;28mself\u001b[39m.table.add_computed_column(\n\u001b[32m     92\u001b[39m         license_plate_text=\u001b[38;5;28mself\u001b[39m.extract_license_plate_text(\u001b[38;5;28mself\u001b[39m.table.image, \u001b[38;5;28mself\u001b[39m.table.detections.boxes)\n\u001b[32m     93\u001b[39m     )\n\u001b[32m     95\u001b[39m \u001b[38;5;66;03m# Columna para la búsqueda\u001b[39;00m\n\u001b[32m---> \u001b[39m\u001b[32m96\u001b[39m \u001b[38;5;28;01mif\u001b[39;00m enable_search \u001b[38;5;129;01mand\u001b[39;00m \u001b[38;5;129;01mnot\u001b[39;00m \u001b[38;5;28;43mself\u001b[39;49m\u001b[43m.\u001b[49m\u001b[43mtable\u001b[49m\u001b[43m.\u001b[49m\u001b[43mhas_embedding_index\u001b[49m(\u001b[33m'\u001b[39m\u001b[33mimage\u001b[39m\u001b[33m'\u001b[39m):\n\u001b[32m     97\u001b[39m     \u001b[38;5;28mself\u001b[39m.table.add_embedding_index(\n\u001b[32m     98\u001b[39m         \u001b[33m'\u001b[39m\u001b[33mimage\u001b[39m\u001b[33m'\u001b[39m,\n\u001b[32m     99\u001b[39m         string_embed=clip.using(model_id=\u001b[33m'\u001b[39m\u001b[33mopenai/clip-vit-base-patch32\u001b[39m\u001b[33m'\u001b[39m, use_fast=\u001b[38;5;28;01mTrue\u001b[39;00m),\n\u001b[32m    100\u001b[39m         image_embed=clip.using(model_id=\u001b[33m'\u001b[39m\u001b[33mopenai/clip-vit-base-patch32\u001b[39m\u001b[33m'\u001b[39m, use_fast=\u001b[38;5;28;01mTrue\u001b[39;00m)\n\u001b[32m    101\u001b[39m     )\n",
      "\u001b[36mFile \u001b[39m\u001b[32mC:\\Dev\\PPS\\env\\Lib\\site-packages\\pixeltable\\catalog\\table.py:150\u001b[39m, in \u001b[36mTable.__getattr__\u001b[39m\u001b[34m(self, name)\u001b[39m\n\u001b[32m    148\u001b[39m col = \u001b[38;5;28mself\u001b[39m._tbl_version_path.get_column(name)\n\u001b[32m    149\u001b[39m \u001b[38;5;28;01mif\u001b[39;00m col \u001b[38;5;129;01mis\u001b[39;00m \u001b[38;5;28;01mNone\u001b[39;00m:\n\u001b[32m--> \u001b[39m\u001b[32m150\u001b[39m     \u001b[38;5;28;01mraise\u001b[39;00m \u001b[38;5;167;01mAttributeError\u001b[39;00m(\u001b[33mf\u001b[39m\u001b[33m'\u001b[39m\u001b[33mColumn \u001b[39m\u001b[38;5;132;01m{\u001b[39;00mname\u001b[38;5;132;01m!r}\u001b[39;00m\u001b[33m unknown\u001b[39m\u001b[33m'\u001b[39m)\n\u001b[32m    151\u001b[39m \u001b[38;5;28;01mreturn\u001b[39;00m ColumnRef(col)\n",
      "\u001b[31mAttributeError\u001b[39m: Column 'has_embedding_index' unknown"
     ]
    }
   ],
   "source": [
    "# Inicializa el procesador de imágenes\n",
    "image_processor = ImageProcessor()\n",
    "image_processor.setup_processing(extract_text=True, enable_search=True)\n",
    "\n",
    "print(\"Setup terminado\")"
   ]
  },
  {
   "cell_type": "code",
   "execution_count": null,
   "metadata": {},
   "outputs": [],
   "source": [
    "# Búsqueda con la query de texto\n",
    "print(f\"Searching for images matching text: '{search_query}'\")\n",
    "text_search_results = image_processor.search(\"Text\", text_query=search_query)\n",
    "print(f\"Found {len(text_search_results)} matching images\")\n",
    "\n",
    "# Muestra resultados\n",
    "for i, result in enumerate(text_search_results[:3]):\n",
    "    display(result.image)\n",
    "    print(f\"Result {i+1}:\")\n",
    "    if hasattr(result, 'license_plate_text') and result.license_plate_text:\n",
    "        print(f\"License plate text: {result.license_plate_text}\")"
   ]
  },
  {
   "cell_type": "code",
   "execution_count": null,
   "metadata": {},
   "outputs": [],
   "source": [
    "# Búsqueda con la image query\n",
    "if os.path.exists(search_image_path):\n",
    "    query_image = PIL.Image.open(search_image_path)\n",
    "    print(f\"Searching for images similar to: {os.path.basename(search_image_path)}\")\n",
    "    display(query_image)\n",
    "    \n",
    "    image_search_results = image_processor.search(\"Image\", image_query=query_image)\n",
    "    print(f\"Found {len(image_search_results)} similar images\")\n",
    "    \n",
    "    # muestra resultados\n",
    "    for i, result in enumerate(image_search_results[:3]):\n",
    "        display(result.image)\n",
    "        print(f\"Result {i+1}:\")\n",
    "        if hasattr(result, 'license_plate_text') and result.license_plate_text:\n",
    "            print(f\"License plate text: {result.license_plate_text}\")\n",
    "else:\n",
    "    print(f\"Query image not found at: {search_image_path}\")"
   ]
  },
  {
   "cell_type": "markdown",
   "metadata": {},
   "source": [
    "## Video Processing\n",
    "\n",
    "Process videos from the specified directory using the VideoProcessor."
   ]
  },
  {
   "cell_type": "code",
   "execution_count": null,
   "metadata": {},
   "outputs": [],
   "source": [
    "# List de videos disponibles\n",
    "video_files = glob.glob(os.path.join(videos_directory, \"*.*\"))\n",
    "print(f\"Found {len(video_files)} videos in {videos_directory}\")\n",
    "for vid in video_files[:5]:  \n",
    "    print(f\" - {os.path.basename(vid)}\")\n",
    "if len(video_files) > 5:\n",
    "    print(f\" ... and {len(video_files) - 5} more\")"
   ]
  },
  {
   "cell_type": "code",
   "execution_count": null,
   "metadata": {},
   "outputs": [],
   "source": [
    "# Inicializa el procesador de videos\n",
    "video_processor = VideoProcessor()\n",
    "video_processor.setup_processing(extract_text=True, enable_search=True)\n",
    "\n",
    "print(\"Procesamiento hecho\")"
   ]
  },
  {
   "cell_type": "code",
   "execution_count": null,
   "metadata": {},
   "outputs": [],
   "source": [
    "# Prueba con text query\n",
    "print(f\"Searching for video frames matching text: '{search_query}'\")\n",
    "video_text_results = video_processor.search(\"Text\", text_query=search_query)\n",
    "print(f\"Found {len(video_text_results)} matching frames\")\n",
    "\n",
    "# Muestra resultados\n",
    "for i, result in enumerate(video_text_results[:3]):\n",
    "    display(result.frame)\n",
    "    print(f\"Result {i+1} from video position: {result.pos:.2f}s\")\n",
    "    if hasattr(result, 'license_plate_text') and result.license_plate_text:\n",
    "        print(f\"License plate text: {result.license_plate_text}\")"
   ]
  },
  {
   "cell_type": "code",
   "execution_count": null,
   "metadata": {},
   "outputs": [],
   "source": [
    "# Prueba con image query\n",
    "if os.path.exists(search_image_path):\n",
    "    query_image = PIL.Image.open(search_image_path)\n",
    "    print(f\"Searching for video frames similar to: {os.path.basename(search_image_path)}\")\n",
    "    display(query_image)\n",
    "    \n",
    "    video_image_results = video_processor.search(\"Image\", image_query=query_image)\n",
    "    print(f\"Found {len(video_image_results)} similar frames\")\n",
    "    \n",
    "    # muestra resultados\n",
    "    for i, result in enumerate(video_image_results[:3]):\n",
    "        display(result.frame)\n",
    "        print(f\"Result {i+1} from video position: {result.pos:.2f}s\")\n",
    "        if hasattr(result, 'license_plate_text') and result.license_plate_text:\n",
    "            print(f\"License plate text: {result.license_plate_text}\")\n",
    "else:\n",
    "    print(f\"Query image not found at: {search_image_path}\")"
   ]
  }
 ],
 "metadata": {
  "kernelspec": {
   "display_name": "Python 3 (ipykernel)",
   "language": "python",
   "name": "python3"
  },
  "language_info": {
   "codemirror_mode": {
    "name": "ipython",
    "version": 3
   },
   "file_extension": ".py",
   "mimetype": "text/x-python",
   "name": "python",
   "nbconvert_exporter": "python",
   "pygments_lexer": "ipython3",
   "version": "3.12.5"
  }
 },
 "nbformat": 4,
 "nbformat_minor": 4
}
