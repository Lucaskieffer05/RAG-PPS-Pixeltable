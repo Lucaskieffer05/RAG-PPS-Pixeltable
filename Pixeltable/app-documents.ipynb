{
 "cells": [
  {
   "cell_type": "markdown",
   "id": "9638618b",
   "metadata": {},
   "source": [
    "# Procesamiento de documentos"
   ]
  },
  {
   "cell_type": "code",
   "execution_count": 1,
   "id": "c2617558",
   "metadata": {},
   "outputs": [
    {
     "name": "stdout",
     "output_type": "stream",
     "text": [
      "Connected to Pixeltable database at: postgresql+psycopg://postgres:@127.0.0.1:58115/pixeltable\n",
      "Created directory 'rag_documents'.\n",
      "Hecho\n"
     ]
    }
   ],
   "source": [
    "from DocumentProcessor import DocumentProcessor\n",
    "import time\n",
    "import pixeltable as pxt\n",
    "\n",
    "documentProccessor = DocumentProcessor()\n",
    "\n",
    "pxt.drop_dir('rag_documents', force=True)\n",
    "pxt.create_dir('rag_documents')\n",
    "\n",
    "print(\"Hecho\")"
   ]
  },
  {
   "cell_type": "markdown",
   "id": "3e929b49",
   "metadata": {},
   "source": [
    "## Setup - crea las tablas y sus columnas (Correr una sola vez)"
   ]
  },
  {
   "cell_type": "code",
   "execution_count": 2,
   "id": "782132d1",
   "metadata": {},
   "outputs": [
    {
     "name": "stdout",
     "output_type": "stream",
     "text": [
      "Iniciando setup...\n",
      "Created table `queries`.\n",
      "Created table `documents`.\n",
      "Created view `chunks` with 0 rows, 0 exceptions.\n"
     ]
    },
    {
     "data": {
      "application/vnd.jupyter.widget-view+json": {
       "model_id": "e42b641996f74928a5e472d1f6d5bcb3",
       "version_major": 2,
       "version_minor": 0
      },
      "text/plain": [
       "config.json:   0%|          | 0.00/4.19k [00:00<?, ?B/s]"
      ]
     },
     "metadata": {},
     "output_type": "display_data"
    },
    {
     "data": {
      "application/vnd.jupyter.widget-view+json": {
       "model_id": "9d625089a9ec432fb6642e2fee426928",
       "version_major": 2,
       "version_minor": 0
      },
      "text/plain": [
       "pytorch_model.bin:   0%|          | 0.00/605M [00:00<?, ?B/s]"
      ]
     },
     "metadata": {},
     "output_type": "display_data"
    },
    {
     "ename": "AttributeError",
     "evalue": "'DocumentProcessor' object has no attribute 'text'",
     "output_type": "error",
     "traceback": [
      "\u001b[31m---------------------------------------------------------------------------\u001b[39m",
      "\u001b[31mAttributeError\u001b[39m                            Traceback (most recent call last)",
      "\u001b[36mCell\u001b[39m\u001b[36m \u001b[39m\u001b[32mIn[2]\u001b[39m\u001b[32m, line 3\u001b[39m\n\u001b[32m      1\u001b[39m start_time = time.time()\n\u001b[32m      2\u001b[39m \u001b[38;5;28mprint\u001b[39m(\u001b[33m\"\u001b[39m\u001b[33mIniciando setup...\u001b[39m\u001b[33m\"\u001b[39m)\n\u001b[32m----> \u001b[39m\u001b[32m3\u001b[39m \u001b[43mdocumentProccessor\u001b[49m\u001b[43m.\u001b[49m\u001b[43msetup\u001b[49m\u001b[43m(\u001b[49m\u001b[43m)\u001b[49m\n\u001b[32m      4\u001b[39m end_time = time.time()\n\u001b[32m      5\u001b[39m \u001b[38;5;28mprint\u001b[39m(\u001b[33mf\u001b[39m\u001b[33m\"\u001b[39m\u001b[33mSetup completo: \u001b[39m\u001b[38;5;132;01m{\u001b[39;00mend_time\u001b[38;5;250m \u001b[39m-\u001b[38;5;250m \u001b[39mstart_time\u001b[38;5;132;01m:\u001b[39;00m\u001b[33m.2f\u001b[39m\u001b[38;5;132;01m}\u001b[39;00m\u001b[33m s\u001b[39m\u001b[33m\"\u001b[39m)\n",
      "\u001b[36mFile \u001b[39m\u001b[32m~\\Desktop\\Pixeltable\\RAG-PPS-Pixeltable\\Pixeltable\\DocumentProcessor.py:48\u001b[39m, in \u001b[36mDocumentProcessor.setup\u001b[39m\u001b[34m(self, chunkLimit, max_tokens, top_p, temperature)\u001b[39m\n\u001b[32m     32\u001b[39m \u001b[38;5;28mself\u001b[39m.chunks_view = pxt.create_view(\n\u001b[32m     33\u001b[39m     \u001b[33mf\u001b[39m\u001b[33m'\u001b[39m\u001b[38;5;132;01m{\u001b[39;00m\u001b[38;5;28mself\u001b[39m.directory\u001b[38;5;132;01m}\u001b[39;00m\u001b[33m.chunks\u001b[39m\u001b[33m'\u001b[39m,\n\u001b[32m     34\u001b[39m     \u001b[38;5;28mself\u001b[39m.documents_table,\n\u001b[32m   (...)\u001b[39m\u001b[32m     39\u001b[39m     )\n\u001b[32m     40\u001b[39m )\n\u001b[32m     42\u001b[39m \u001b[38;5;28mself\u001b[39m.chunks_view.add_embedding_index(\n\u001b[32m     43\u001b[39m     \u001b[33m'\u001b[39m\u001b[33mtext\u001b[39m\u001b[33m'\u001b[39m,\n\u001b[32m     44\u001b[39m     embedding=clip.using(model_id=\u001b[38;5;28mself\u001b[39m.embed_model)\n\u001b[32m     45\u001b[39m )\n\u001b[32m     47\u001b[39m \u001b[38;5;28mself\u001b[39m.queries_table.add_computed_column(\n\u001b[32m---> \u001b[39m\u001b[32m48\u001b[39m     question_context=\u001b[38;5;28;43mself\u001b[39;49m\u001b[43m.\u001b[49m\u001b[43m_get_top_chunks\u001b[49m\u001b[43m(\u001b[49m\u001b[38;5;28;43mself\u001b[39;49m\u001b[43m.\u001b[49m\u001b[43mchunks_view\u001b[49m\u001b[43m,\u001b[49m\u001b[38;5;28;43mself\u001b[39;49m\u001b[43m.\u001b[49m\u001b[43mqueries_table\u001b[49m\u001b[43m.\u001b[49m\u001b[43mquestion\u001b[49m\u001b[43m)\u001b[49m\n\u001b[32m     49\u001b[39m )\n\u001b[32m     51\u001b[39m \u001b[38;5;28mself\u001b[39m.queries_table.add_computed_column(\n\u001b[32m     52\u001b[39m     prompt=\u001b[38;5;28mself\u001b[39m._create_prompt(\u001b[38;5;28mself\u001b[39m.queries_table.question_context, \u001b[38;5;28mself\u001b[39m.queries_table.question)\n\u001b[32m     53\u001b[39m )\n\u001b[32m     55\u001b[39m \u001b[38;5;28mself\u001b[39m.queries_table.add_computed_column(raw_output=chat(\n\u001b[32m     56\u001b[39m     messages=\u001b[38;5;28mself\u001b[39m._create_messages(\u001b[38;5;28mself\u001b[39m.queries_table.prompt),\n\u001b[32m     57\u001b[39m     model=\u001b[38;5;28mself\u001b[39m.inference_model,\n\u001b[32m     58\u001b[39m     options={\u001b[33m'\u001b[39m\u001b[33mmax_tokens\u001b[39m\u001b[33m'\u001b[39m: max_tokens, \u001b[33m'\u001b[39m\u001b[33mtop_p\u001b[39m\u001b[33m'\u001b[39m: top_p, \u001b[33m'\u001b[39m\u001b[33mtemperature\u001b[39m\u001b[33m'\u001b[39m: temperature},\n\u001b[32m     59\u001b[39m ))\n",
      "\u001b[36mFile \u001b[39m\u001b[32m~\\Desktop\\Pixeltable\\RAG-PPS-Pixeltable\\Pixeltable\\DocumentProcessor.py:67\u001b[39m, in \u001b[36mDocumentProcessor._get_top_chunks\u001b[39m\u001b[34m(chunks_view, query_text, kSize)\u001b[39m\n\u001b[32m     66\u001b[39m \u001b[38;5;28;01mdef\u001b[39;00m\u001b[38;5;250m \u001b[39m\u001b[34m_get_top_chunks\u001b[39m(chunks_view: pxt.View, query_text: \u001b[38;5;28mstr\u001b[39m, kSize: \u001b[38;5;28mint\u001b[39m = \u001b[32m5\u001b[39m):\n\u001b[32m---> \u001b[39m\u001b[32m67\u001b[39m     sim = \u001b[43mchunks_view\u001b[49m\u001b[43m.\u001b[49m\u001b[43mtext\u001b[49m.similarity(query_text)\n\u001b[32m     68\u001b[39m     \u001b[38;5;28;01mreturn\u001b[39;00m (\n\u001b[32m     69\u001b[39m         chunks_view.order_by(sim, asc=\u001b[38;5;28;01mFalse\u001b[39;00m)\n\u001b[32m     70\u001b[39m             .select(chunks_view.text, sim=sim)\n\u001b[32m     71\u001b[39m             .limit(kSize)\n\u001b[32m     72\u001b[39m     )\n",
      "\u001b[31mAttributeError\u001b[39m: 'DocumentProcessor' object has no attribute 'text'"
     ]
    },
    {
     "data": {
      "application/vnd.jupyter.widget-view+json": {
       "model_id": "8e96236ed72e472db58a862213011804",
       "version_major": 2,
       "version_minor": 0
      },
      "text/plain": [
       "model.safetensors:   0%|          | 0.00/605M [00:00<?, ?B/s]"
      ]
     },
     "metadata": {},
     "output_type": "display_data"
    }
   ],
   "source": [
    "start_time = time.time()\n",
    "print(\"Iniciando setup...\")\n",
    "documentProccessor.setup()\n",
    "end_time = time.time()\n",
    "print(f\"Setup completo: {end_time - start_time:.2f} s\")\n"
   ]
  },
  {
   "cell_type": "markdown",
   "id": "62e82e21",
   "metadata": {},
   "source": [
    "### Carga de documentos\n",
    "Se corre siempre que se quiera cambiar la base de información, tener primero cargada la estructura"
   ]
  },
  {
   "cell_type": "code",
   "execution_count": null,
   "id": "13da01e8",
   "metadata": {},
   "outputs": [],
   "source": [
    "start_time = time.time()\n",
    "print(\"Iniciando carga de documentos...\")\n",
    "documentProccessor.insert_documents(['Apuntes_Meco.pdf'])\n",
    "end_time = time.time()\n",
    "print(f\"Carga de documentos completa: {end_time - start_time:.2f} s\")"
   ]
  },
  {
   "cell_type": "markdown",
   "id": "4d11ca96",
   "metadata": {},
   "source": [
    "### Realización de la pregunta\n",
    "Se corre siempre que se quiera hacer una pregunta, teniendo cargada la base de información."
   ]
  },
  {
   "cell_type": "code",
   "execution_count": null,
   "id": "e22930c5",
   "metadata": {},
   "outputs": [],
   "source": [
    "documentProccessor.get_answer('Que es la diferencia finita?')"
   ]
  }
 ],
 "metadata": {
  "kernelspec": {
   "display_name": "Python 3 (ipykernel)",
   "language": "python",
   "name": "python3"
  },
  "language_info": {
   "codemirror_mode": {
    "name": "ipython",
    "version": 3
   },
   "file_extension": ".py",
   "mimetype": "text/x-python",
   "name": "python",
   "nbconvert_exporter": "python",
   "pygments_lexer": "ipython3",
   "version": "3.12.8"
  }
 },
 "nbformat": 4,
 "nbformat_minor": 5
}
