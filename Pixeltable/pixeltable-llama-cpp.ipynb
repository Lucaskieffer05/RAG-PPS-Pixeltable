{
 "cells": [
  {
   "cell_type": "markdown",
   "metadata": {},
   "source": [
    "# Crear tabla para respuestas de chat #\n",
    "Se crea una tabla que contendra nuestros inputs y responses"
   ]
  },
  {
   "cell_type": "code",
   "execution_count": 12,
   "metadata": {},
   "outputs": [
    {
     "name": "stdout",
     "output_type": "stream",
     "text": [
      "Created directory 'llama_demo'.\n",
      "Created table `chat`.\n"
     ]
    }
   ],
   "source": [
    "import pixeltable as pxt\n",
    "from pixeltable.functions import llama_cpp\n",
    "\n",
    "pxt.drop_dir('llama_demo', force=True)\n",
    "pxt.create_dir('llama_demo')\n",
    "\n",
    "t = pxt.create_table('llama_demo.chat', {'input': pxt.String})"
   ]
  },
  {
   "cell_type": "markdown",
   "metadata": {},
   "source": [
    "Ahora agregamos a nuestra columna calculada la función de *create_chat_completition*. Vamos a usar un modelo preentrenado del repositorio Hugging Face. Para importar un modelo, llama.cpp tiene los campos de repo_id (donde se pone la url del modelo) y el repo_filename que es el nombre del repositorio. El modelo se descarga y cachea automáticamente.\n",
    "\n",
    "En este caso se va a usar **Qwen2.5-0.5B** ya que es relativamente ligero y tiene resultados decentes. Además se usa el cuantificado Q5_K_M (5-bit). El **cuantificador Q5_K_M (5-bit)** es un método de compresión avanzado para modelos de lenguaje como los de la familia Qwen, que reduce el tamaño del modelo y los requisitos de memoria manteniendo un buen equilibrio entre precisión y rendimiento. Funciona agrupando pesos, etc. Este cuatificado trae un ecxelente balance de calidad y eficiencia."
   ]
  },
  {
   "cell_type": "code",
   "execution_count": 13,
   "metadata": {},
   "outputs": [
    {
     "name": "stdout",
     "output_type": "stream",
     "text": [
      "Added 0 column values with 0 errors.\n",
      "Added 0 column values with 0 errors.\n"
     ]
    },
    {
     "data": {
      "text/plain": [
       "UpdateStatus(num_rows=0, num_computed_values=0, num_excs=0, updated_cols=[], cols_with_excs=[])"
      ]
     },
     "execution_count": 13,
     "metadata": {},
     "output_type": "execute_result"
    }
   ],
   "source": [
    "\n",
    "# Add a computed column that uses llama.cpp for chat completion\n",
    "# against the input.\n",
    "\n",
    "messages = [\n",
    "    {'role': 'system', 'content': 'You are a helpful assistant.'},\n",
    "    {'role': 'user', 'content': t.input}\n",
    "]\n",
    "\n",
    "t.add_computed_column(result=llama_cpp.create_chat_completion(\n",
    "    messages,\n",
    "    repo_id='Qwen/Qwen2.5-0.5B-Instruct-GGUF',\n",
    "    repo_filename='*q5_k_m.gguf'\n",
    "))\n",
    "\n",
    "# Extract the output content from the JSON structure returned\n",
    "# by llama_cpp.\n",
    "\n",
    "t.add_computed_column(output=t.result.choices[0].message.content)"
   ]
  },
  {
   "cell_type": "markdown",
   "metadata": {},
   "source": [
    "# Test de Respuestas de Chat #"
   ]
  },
  {
   "cell_type": "code",
   "execution_count": 14,
   "metadata": {},
   "outputs": [
    {
     "name": "stdout",
     "output_type": "stream",
     "text": [
      "Inserting rows into `chat`: 3 rows [00:00, 1000.15 rows/s]\n",
      "Inserted 3 rows with 0 errors.\n"
     ]
    },
    {
     "data": {
      "text/plain": [
       "UpdateStatus(num_rows=3, num_computed_values=9, num_excs=0, updated_cols=[], cols_with_excs=[])"
      ]
     },
     "execution_count": 14,
     "metadata": {},
     "output_type": "execute_result"
    }
   ],
   "source": [
    "# Test with a simple question\n",
    "t.insert([\n",
    "    {'input': 'What is the capital of France?'},\n",
    "    {'input': 'What are some edible species of fish?'},\n",
    "    {'input': 'Who are the most prominent classical composers?'}\n",
    "])"
   ]
  },
  {
   "cell_type": "code",
   "execution_count": 15,
   "metadata": {},
   "outputs": [
    {
     "data": {
      "text/html": [
       "<table border=\"1\" class=\"dataframe\">\n",
       "  <thead>\n",
       "    <tr style=\"text-align: right;\">\n",
       "      <th>input</th>\n",
       "      <th>output</th>\n",
       "    </tr>\n",
       "  </thead>\n",
       "  <tbody>\n",
       "    <tr>\n",
       "      <td>What is the capital of France?</td>\n",
       "      <td>The capital of France is Paris.</td>\n",
       "    </tr>\n",
       "    <tr>\n",
       "      <td>What are some edible species of fish?</td>\n",
       "      <td>There are many edible species of fish, including:\n",
       "\n",
       "1. Tilapia (also known as cod)\n",
       "2. Salmon\n",
       "3. Trout\n",
       "4. Pike\n",
       "5. Bluefish\n",
       "6. Rainbow trout\n",
       "7. Flounder\n",
       "8. Codfish\n",
       "9. Bass\n",
       "10. Tuna\n",
       "11. Mahi-mahi\n",
       "12. Hake\n",
       "13. Codfish\n",
       "14. Tilapia\n",
       "15. Salmon\n",
       "16. Trout\n",
       "17. Pike\n",
       "18. Bluefish\n",
       "19. Rainbow trout\n",
       "20. Flounder\n",
       "\n",
       "These fish are commonly found in many parts of the world and are popular in many cuisines around the world.</td>\n",
       "    </tr>\n",
       "    <tr>\n",
       "      <td>Who are the most prominent classical composers?</td>\n",
       "      <td>The most prominent classical composers are Bach, Mozart, Beethoven, and Haydn. These composers are known for their innovative compositions, particularly in the form of the symphonies, concertos, and operas. They are also known for their use of complex harmonies and melodies, as well as their ability to convey complex ideas and emotions through their music.</td>\n",
       "    </tr>\n",
       "  </tbody>\n",
       "</table>"
      ],
      "text/plain": [
       "                                             input  \\\n",
       "0                   What is the capital of France?   \n",
       "1            What are some edible species of fish?   \n",
       "2  Who are the most prominent classical composers?   \n",
       "\n",
       "                                              output  \n",
       "0                    The capital of France is Paris.  \n",
       "1  There are many edible species of fish, includi...  \n",
       "2  The most prominent classical composers are Bac...  "
      ]
     },
     "execution_count": 15,
     "metadata": {},
     "output_type": "execute_result"
    }
   ],
   "source": [
    "t.select(t.input, t.output).collect()"
   ]
  },
  {
   "cell_type": "markdown",
   "metadata": {},
   "source": [
    "# Comparación de modelos #\n",
    "Vamos a probar ahora a correr un modelo un poco más pesado como lo es **Llama-3.2-1B**. Creamos la columna correspondiente para guardar su respuesta."
   ]
  },
  {
   "cell_type": "code",
   "execution_count": 22,
   "metadata": {},
   "outputs": [
    {
     "name": "stdout",
     "output_type": "stream",
     "text": [
      "Added 3 column values with 0 errors.\n",
      "Added 3 column values with 0 errors.\n"
     ]
    },
    {
     "data": {
      "text/html": [
       "<table border=\"1\" class=\"dataframe\">\n",
       "  <thead>\n",
       "    <tr style=\"text-align: right;\">\n",
       "      <th>input</th>\n",
       "      <th>output_teacher</th>\n",
       "    </tr>\n",
       "  </thead>\n",
       "  <tbody>\n",
       "    <tr>\n",
       "      <td>What is the capital of France?</td>\n",
       "      <td>Bonjour! I&#x27;d be happy to help you with that.\n",
       "\n",
       "The capital of France is Paris. It&#x27;s a beautiful city located in the north of the country, and it&#x27;s known for its stunning architecture, rich history, and vibrant culture.\n",
       "\n",
       "Imagine you&#x27;re in a big city, and you&#x27;re looking for a place to visit. You might want to see the Eiffel Tower, the Louvre Museum, or the famous Notre-Dame Cathedral. Paris is a great place to explore, and it&#x27;s a popular destination for tourists from all over the world.\n",
       "\n",
       "Does that make sense?</td>\n",
       "    </tr>\n",
       "    <tr>\n",
       "      <td>What are some edible species of fish?</td>\n",
       "      <td>As a teacher, I&#x27;d be happy to explain some edible species of fish in a simple and clear way.\n",
       "\n",
       "There are many types of fish that are safe to eat and can be a great source of protein. Here are some examples:\n",
       "\n",
       "1. **Salmon**: Salmon is a fatty fish that&#x27;s rich in omega-3 fatty acids. It&#x27;s a popular choice for grilling, baking, or smoking. It&#x27;s also high in protein and low in fat.\n",
       "\n",
       "2. **Tuna**: Tuna is a meaty fish that&#x27;s high in protein and low in fat. It&#x27;s often canned in water or olive oil and ...... , shellfish that&#x27;s high in protein and low in fat. It&#x27;s often cooked in a variety of ways, including stir-fries and curries.\n",
       "\n",
       "8. **Eel**: Eel is a type of fish that&#x27;s high in protein and low in fat. It&#x27;s often grilled or baked and is a popular choice for salads and sandwiches.\n",
       "\n",
       "Remember to always check the freshness and safety of the fish before consuming it. It&#x27;s also a good idea to cook the fish thoroughly to avoid foodborne illness.\n",
       "\n",
       "Which of these fish would you like to learn more about?</td>\n",
       "    </tr>\n",
       "    <tr>\n",
       "      <td>Who are the most prominent classical composers?</td>\n",
       "      <td>As a teacher, I&#x27;d be happy to introduce you to some of the most prominent classical composers. Here are a few:\n",
       "\n",
       "1. **Wolfgang Amadeus Mozart** (1756-1791): Known for his melodic and harmonic genius, Mozart is one of the most popular and influential composers of all time. He wrote over 600 works, including symphonies, operas, and chamber music.\n",
       "\n",
       "2. **Ludwig van Beethoven** (1770-1827): A German composer who revolutionized classical music, Beethoven is famous for his symphonies, piano sonatas, ......  today.\n",
       "\n",
       "6. **Antonio Vivaldi** (1678-1741): An Italian composer, Vivaldi is famous for his concertos, particularly his &quot;Four Seasons.&quot; He&#x27;s considered one of the greatest composers of the Baroque period, and his music is still widely performed today.\n",
       "\n",
       "7. **George Frideric Handel** (1685-1759): A German-born British composer, Handel is known for his operas, oratorios, and concertos. He&#x27;s considered one of the greatest composers of the Classical period, and his music is still widely performed</td>\n",
       "    </tr>\n",
       "  </tbody>\n",
       "</table>"
      ],
      "text/plain": [
       "                                             input  \\\n",
       "0                   What is the capital of France?   \n",
       "1            What are some edible species of fish?   \n",
       "2  Who are the most prominent classical composers?   \n",
       "\n",
       "                                      output_teacher  \n",
       "0  Bonjour! I'd be happy to help you with that.\\n...  \n",
       "1  As a teacher, I'd be happy to explain some edi...  \n",
       "2  As a teacher, I'd be happy to introduce you to...  "
      ]
     },
     "execution_count": 22,
     "metadata": {},
     "output_type": "execute_result"
    }
   ],
   "source": [
    "messages_teacher = [\n",
    "    {'role': 'system',\n",
    "     'content': 'You are a patient school teacher. '\n",
    "                'Explain concepts simply and clearly.'},\n",
    "    {'role': 'user', 'content': t.input}\n",
    "]\n",
    "\n",
    "t.add_computed_column(result_teacher=llama_cpp.create_chat_completion(\n",
    "    messages_teacher,\n",
    "    repo_id='bartowski/Llama-3.2-1B-Instruct-GGUF',\n",
    "    repo_filename='*Q5_K_M.gguf'\n",
    "))\n",
    "\n",
    "t.add_computed_column(output_teacher=t.result_teacher.choices[0].message.content)\n",
    "\n",
    "t.select(t.input, t.output_teacher).collect()"
   ]
  },
  {
   "cell_type": "code",
   "execution_count": null,
   "metadata": {},
   "outputs": [],
   "source": []
  }
 ],
 "metadata": {
  "kernelspec": {
   "display_name": "env",
   "language": "python",
   "name": "python3"
  },
  "language_info": {
   "codemirror_mode": {
    "name": "ipython",
    "version": 3
   },
   "file_extension": ".py",
   "mimetype": "text/x-python",
   "name": "python",
   "nbconvert_exporter": "python",
   "pygments_lexer": "ipython3",
   "version": "3.12.8"
  }
 },
 "nbformat": 4,
 "nbformat_minor": 4
}
