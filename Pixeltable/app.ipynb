{
 "cells": [
  {
   "cell_type": "markdown",
   "id": "885b2850",
   "metadata": {},
   "source": [
    "# Configuración inicial"
   ]
  },
  {
   "cell_type": "code",
   "execution_count": null,
   "id": "df9cb7e9",
   "metadata": {},
   "outputs": [
    {
     "ename": "AssertionError",
     "evalue": "Circular env initialization detected.",
     "output_type": "error",
     "traceback": [
      "\u001b[31m---------------------------------------------------------------------------\u001b[39m",
      "\u001b[31mAssertionError\u001b[39m                            Traceback (most recent call last)",
      "\u001b[36mCell\u001b[39m\u001b[36m \u001b[39m\u001b[32mIn[3]\u001b[39m\u001b[32m, line 19\u001b[39m\n\u001b[32m     16\u001b[39m FPS = \u001b[32m1\u001b[39m\n\u001b[32m     17\u001b[39m EMBED_MODEL = \u001b[33m'\u001b[39m\u001b[33mopenai/clip-vit-base-patch32\u001b[39m\u001b[33m'\u001b[39m\n\u001b[32m---> \u001b[39m\u001b[32m19\u001b[39m \u001b[43minitialize_pixeltable\u001b[49m\u001b[43m(\u001b[49m\u001b[43mPXT_DIRECTORY\u001b[49m\u001b[43m)\u001b[49m\n\u001b[32m     20\u001b[39m videos = VideoProcessor(PXT_DIRECTORY,\n\u001b[32m     21\u001b[39m                         YOLOX_MODEL,\n\u001b[32m     22\u001b[39m                         CONFIDENCE_THRESHOLD,\n\u001b[32m     23\u001b[39m                         FPS,\n\u001b[32m     24\u001b[39m                         EMBED_MODEL)\n\u001b[32m     26\u001b[39m \u001b[38;5;28mprint\u001b[39m(\u001b[33m\"\u001b[39m\u001b[33mHecho\u001b[39m\u001b[33m\"\u001b[39m)\n",
      "\u001b[36mFile \u001b[39m\u001b[32mc:\\Dev\\PPS\\Pixeltable\\image_video_detection.py:14\u001b[39m, in \u001b[36minitialize_pixeltable\u001b[39m\u001b[34m(dir_name)\u001b[39m\n\u001b[32m     13\u001b[39m \u001b[38;5;28;01mdef\u001b[39;00m\u001b[38;5;250m \u001b[39m\u001b[34minitialize_pixeltable\u001b[39m(dir_name=\u001b[33m'\u001b[39m\u001b[33mdetection\u001b[39m\u001b[33m'\u001b[39m):\n\u001b[32m---> \u001b[39m\u001b[32m14\u001b[39m     \u001b[43mpxt\u001b[49m\u001b[43m.\u001b[49m\u001b[43mdrop_dir\u001b[49m\u001b[43m(\u001b[49m\u001b[43mdir_name\u001b[49m\u001b[43m,\u001b[49m\u001b[43m \u001b[49m\u001b[43mforce\u001b[49m\u001b[43m=\u001b[49m\u001b[38;5;28;43;01mTrue\u001b[39;49;00m\u001b[43m)\u001b[49m\n\u001b[32m     15\u001b[39m     pxt.create_dir(dir_name)\n",
      "\u001b[36mFile \u001b[39m\u001b[32mc:\\Dev\\PPS\\env\\Lib\\site-packages\\pixeltable\\globals.py:551\u001b[39m, in \u001b[36mdrop_dir\u001b[39m\u001b[34m(path, force, if_not_exists)\u001b[39m\n\u001b[32m    549\u001b[39m path_obj = catalog.Path(path)  \u001b[38;5;66;03m# validate format\u001b[39;00m\n\u001b[32m    550\u001b[39m if_not_exists_ = catalog.IfNotExistsParam.validated(if_not_exists, \u001b[33m'\u001b[39m\u001b[33mif_not_exists\u001b[39m\u001b[33m'\u001b[39m)\n\u001b[32m--> \u001b[39m\u001b[32m551\u001b[39m \u001b[43mCatalog\u001b[49m\u001b[43m.\u001b[49m\u001b[43mget\u001b[49m\u001b[43m(\u001b[49m\u001b[43m)\u001b[49m.drop_dir(path_obj, if_not_exists=if_not_exists_, force=force)\n",
      "\u001b[36mFile \u001b[39m\u001b[32mc:\\Dev\\PPS\\env\\Lib\\site-packages\\pixeltable\\catalog\\catalog.py:113\u001b[39m, in \u001b[36mCatalog.get\u001b[39m\u001b[34m(cls)\u001b[39m\n\u001b[32m    110\u001b[39m \u001b[38;5;129m@classmethod\u001b[39m\n\u001b[32m    111\u001b[39m \u001b[38;5;28;01mdef\u001b[39;00m\u001b[38;5;250m \u001b[39m\u001b[34mget\u001b[39m(\u001b[38;5;28mcls\u001b[39m) -> Catalog:\n\u001b[32m    112\u001b[39m     \u001b[38;5;28;01mif\u001b[39;00m \u001b[38;5;28mcls\u001b[39m._instance \u001b[38;5;129;01mis\u001b[39;00m \u001b[38;5;28;01mNone\u001b[39;00m:\n\u001b[32m--> \u001b[39m\u001b[32m113\u001b[39m         \u001b[38;5;28mcls\u001b[39m._instance = \u001b[38;5;28;43mcls\u001b[39;49m\u001b[43m(\u001b[49m\u001b[43m)\u001b[49m\n\u001b[32m    114\u001b[39m     \u001b[38;5;28;01mreturn\u001b[39;00m \u001b[38;5;28mcls\u001b[39m._instance\n",
      "\u001b[36mFile \u001b[39m\u001b[32mc:\\Dev\\PPS\\env\\Lib\\site-packages\\pixeltable\\catalog\\catalog.py:124\u001b[39m, in \u001b[36mCatalog.__init__\u001b[39m\u001b[34m(self)\u001b[39m\n\u001b[32m    122\u001b[39m \u001b[38;5;28mself\u001b[39m._tbl_versions = {}\n\u001b[32m    123\u001b[39m \u001b[38;5;28mself\u001b[39m._tbls = {}  \u001b[38;5;66;03m# don't use a defaultdict here, it doesn't cooperate with the debugger\u001b[39;00m\n\u001b[32m--> \u001b[39m\u001b[32m124\u001b[39m \u001b[38;5;28;43mself\u001b[39;49m\u001b[43m.\u001b[49m\u001b[43m_init_store\u001b[49m\u001b[43m(\u001b[49m\u001b[43m)\u001b[49m\n",
      "\u001b[36mFile \u001b[39m\u001b[32mc:\\Dev\\PPS\\env\\Lib\\site-packages\\pixeltable\\catalog\\catalog.py:761\u001b[39m, in \u001b[36mCatalog._init_store\u001b[39m\u001b[34m(self)\u001b[39m\n\u001b[32m    759\u001b[39m \u001b[38;5;28;01mdef\u001b[39;00m\u001b[38;5;250m \u001b[39m\u001b[34m_init_store\u001b[39m(\u001b[38;5;28mself\u001b[39m) -> \u001b[38;5;28;01mNone\u001b[39;00m:\n\u001b[32m    760\u001b[39m \u001b[38;5;250m    \u001b[39m\u001b[33;03m\"\"\"One-time initialization of the stored catalog. Idempotent.\"\"\"\u001b[39;00m\n\u001b[32m--> \u001b[39m\u001b[32m761\u001b[39m     \u001b[38;5;28;01mwith\u001b[39;00m \u001b[43mEnv\u001b[49m\u001b[43m.\u001b[49m\u001b[43mget\u001b[49m\u001b[43m(\u001b[49m\u001b[43m)\u001b[49m.begin_xact():\n\u001b[32m    762\u001b[39m         session = Env.get().session\n\u001b[32m    763\u001b[39m         \u001b[38;5;28;01mif\u001b[39;00m session.query(sql.func.count(schema.Dir.id)).scalar() > \u001b[32m0\u001b[39m:\n",
      "\u001b[36mFile \u001b[39m\u001b[32mc:\\Dev\\PPS\\env\\Lib\\site-packages\\pixeltable\\env.py:88\u001b[39m, in \u001b[36mEnv.get\u001b[39m\u001b[34m(cls)\u001b[39m\n\u001b[32m     85\u001b[39m \u001b[38;5;129m@classmethod\u001b[39m\n\u001b[32m     86\u001b[39m \u001b[38;5;28;01mdef\u001b[39;00m\u001b[38;5;250m \u001b[39m\u001b[34mget\u001b[39m(\u001b[38;5;28mcls\u001b[39m) -> Env:\n\u001b[32m     87\u001b[39m     \u001b[38;5;28;01mif\u001b[39;00m \u001b[38;5;28mcls\u001b[39m._instance \u001b[38;5;129;01mis\u001b[39;00m \u001b[38;5;28;01mNone\u001b[39;00m:\n\u001b[32m---> \u001b[39m\u001b[32m88\u001b[39m         \u001b[38;5;28;43mcls\u001b[39;49m\u001b[43m.\u001b[49m\u001b[43m_init_env\u001b[49m\u001b[43m(\u001b[49m\u001b[43m)\u001b[49m\n\u001b[32m     89\u001b[39m     \u001b[38;5;28;01mreturn\u001b[39;00m \u001b[38;5;28mcls\u001b[39m._instance\n",
      "\u001b[36mFile \u001b[39m\u001b[32mc:\\Dev\\PPS\\env\\Lib\\site-packages\\pixeltable\\env.py:93\u001b[39m, in \u001b[36mEnv._init_env\u001b[39m\u001b[34m(cls, reinit_db)\u001b[39m\n\u001b[32m     91\u001b[39m \u001b[38;5;129m@classmethod\u001b[39m\n\u001b[32m     92\u001b[39m \u001b[38;5;28;01mdef\u001b[39;00m\u001b[38;5;250m \u001b[39m\u001b[34m_init_env\u001b[39m(\u001b[38;5;28mcls\u001b[39m, reinit_db: \u001b[38;5;28mbool\u001b[39m = \u001b[38;5;28;01mFalse\u001b[39;00m) -> \u001b[38;5;28;01mNone\u001b[39;00m:\n\u001b[32m---> \u001b[39m\u001b[32m93\u001b[39m     \u001b[38;5;28;01massert\u001b[39;00m \u001b[38;5;129;01mnot\u001b[39;00m \u001b[38;5;28mcls\u001b[39m.__initializing, \u001b[33m'\u001b[39m\u001b[33mCircular env initialization detected.\u001b[39m\u001b[33m'\u001b[39m\n\u001b[32m     94\u001b[39m     \u001b[38;5;28mcls\u001b[39m.__initializing = \u001b[38;5;28;01mTrue\u001b[39;00m\n\u001b[32m     95\u001b[39m     env = Env()\n",
      "\u001b[31mAssertionError\u001b[39m: Circular env initialization detected."
     ]
    }
   ],
   "source": [
    "from image_video_detection import VideoProcessor\n",
    "import time\n",
    "\n",
    "MEDIA_DIR = \"Media\"\n",
    "VIDEOS_DIR = f\"{MEDIA_DIR}/Videos\"\n",
    "IMAGES_DIR = f\"{MEDIA_DIR}/Images\"\n",
    "VIDEO1_PATH = f\"{VIDEOS_DIR}/TheaterSquare_1280x720.mp4\"\n",
    "VIDEO2_PATH = f\"{VIDEOS_DIR}/NovosobornayaSquare_1920x1080.mp4\"\n",
    "VIDEO3_PATH = f\"{VIDEOS_DIR}/TSU_1920x1080.mp4\"\n",
    "\n",
    "VIDEO_PATHS = [VIDEO1_PATH]\n",
    "\n",
    "PXT_DIRECTORY = \"Detection\"\n",
    "YOLOX_MODEL = \"yolox_m\"\n",
    "CONFIDENCE_THRESHOLD = 0.25\n",
    "FPS = 1\n",
    "EMBED_MODEL = 'openai/clip-vit-base-patch32'\n",
    "videos = VideoProcessor(PXT_DIRECTORY,\n",
    "                        YOLOX_MODEL,\n",
    "                        CONFIDENCE_THRESHOLD,\n",
    "                        FPS,\n",
    "                        EMBED_MODEL)\n",
    "\n",
    "print(\"Hecho\")"
   ]
  },
  {
   "cell_type": "markdown",
   "id": "3e155bab",
   "metadata": {},
   "source": [
    "## Setup "
   ]
  },
  {
   "cell_type": "code",
   "execution_count": 2,
   "id": "8d5abc09",
   "metadata": {},
   "outputs": [
    {
     "name": "stdout",
     "output_type": "stream",
     "text": [
      "Empezando setup...\n"
     ]
    },
    {
     "ename": "Error",
     "evalue": "Path <pixeltable.catalog.path.Path object at 0x0000020EE78BE9C0> already exists but is not a table. Cannot ignore it.",
     "output_type": "error",
     "traceback": [
      "\u001b[31m---------------------------------------------------------------------------\u001b[39m",
      "\u001b[31mAttributeError\u001b[39m                            Traceback (most recent call last)",
      "\u001b[36mCell\u001b[39m\u001b[36m \u001b[39m\u001b[32mIn[2]\u001b[39m\u001b[32m, line 3\u001b[39m\n\u001b[32m      1\u001b[39m start = time.time()\n\u001b[32m      2\u001b[39m \u001b[38;5;28mprint\u001b[39m(\u001b[33m\"\u001b[39m\u001b[33mEmpezando setup...\u001b[39m\u001b[33m\"\u001b[39m)\n\u001b[32m----> \u001b[39m\u001b[32m3\u001b[39m \u001b[43mvideos\u001b[49m\u001b[43m.\u001b[49m\u001b[43msetup\u001b[49m\u001b[43m(\u001b[49m\u001b[43m)\u001b[49m\n\u001b[32m      4\u001b[39m end = time.time()\n\u001b[32m      5\u001b[39m \u001b[38;5;28mprint\u001b[39m(\u001b[33mf\u001b[39m\u001b[33m\"\u001b[39m\u001b[33mSetup terminado (\u001b[39m\u001b[38;5;132;01m{\u001b[39;00mend\u001b[38;5;250m \u001b[39m-\u001b[38;5;250m \u001b[39mstart\u001b[38;5;132;01m:\u001b[39;00m\u001b[33m.2f\u001b[39m\u001b[38;5;132;01m}\u001b[39;00m\u001b[33m s)\u001b[39m\u001b[33m\"\u001b[39m)\n",
      "\u001b[36mFile \u001b[39m\u001b[32mC:\\Dev\\PPS\\Pixeltable\\image_video_detection.py:144\u001b[39m, in \u001b[36mVideoProcessor.setup\u001b[39m\u001b[34m(self)\u001b[39m\n\u001b[32m    134\u001b[39m \u001b[38;5;28mself\u001b[39m.frames_view = pxt.create_view(\n\u001b[32m    135\u001b[39m     \u001b[33m'\u001b[39m\u001b[33mframes\u001b[39m\u001b[33m'\u001b[39m,\n\u001b[32m    136\u001b[39m     \u001b[38;5;28mself\u001b[39m.videos_table,\n\u001b[32m    137\u001b[39m     iterator=FrameIterator.create(video=\u001b[38;5;28mself\u001b[39m.videos_table.video, fps=\u001b[38;5;28mself\u001b[39m.fps),\n\u001b[32m    138\u001b[39m     if_exists=\u001b[33m'\u001b[39m\u001b[33mignore\u001b[39m\u001b[33m'\u001b[39m\n\u001b[32m    139\u001b[39m )\n\u001b[32m    141\u001b[39m \u001b[38;5;28mself\u001b[39m.videos_table.add_computed_column(audio_extract=extract_audio(\u001b[38;5;28mself\u001b[39m.videos_table.video, \n\u001b[32m    142\u001b[39m                                                                   \u001b[38;5;28mformat\u001b[39m=\u001b[33m'\u001b[39m\u001b[33mmp3\u001b[39m\u001b[33m'\u001b[39m)) \n\u001b[32m--> \u001b[39m\u001b[32m144\u001b[39m \u001b[38;5;28;43mself\u001b[39;49m\u001b[43m.\u001b[49m\u001b[43mframes\u001b[49m.add_computed_column(\n\u001b[32m    145\u001b[39m     raw_detections=yolox(\u001b[38;5;28mself\u001b[39m.frames.frame, model_id=\u001b[38;5;28mself\u001b[39m.yolox_model, threshold=\u001b[38;5;28mself\u001b[39m.confidence_threshold)\n\u001b[32m    146\u001b[39m )\n\u001b[32m    148\u001b[39m \u001b[38;5;66;03m# Embedding para búsqueda (imágenes y texto)\u001b[39;00m\n\u001b[32m    149\u001b[39m \u001b[38;5;28mself\u001b[39m.frames.add_embedding_index(\n\u001b[32m    150\u001b[39m     \u001b[33m'\u001b[39m\u001b[33mframe\u001b[39m\u001b[33m'\u001b[39m,\n\u001b[32m    151\u001b[39m     string_embed=clip.using(model_id=\u001b[38;5;28mself\u001b[39m.embed_model, use_fast=\u001b[38;5;28;01mTrue\u001b[39;00m),\n\u001b[32m    152\u001b[39m     image_embed=clip.using(model_id=\u001b[38;5;28mself\u001b[39m.embed_model, use_fast=\u001b[38;5;28;01mTrue\u001b[39;00m)\n\u001b[32m    153\u001b[39m )\n",
      "\u001b[31mAttributeError\u001b[39m: 'VideoProcessor' object has no attribute 'frames'"
     ]
    }
   ],
   "source": [
    "start = time.time()\n",
    "print(\"Empezando setup...\")\n",
    "videos.setup()\n",
    "end = time.time()\n",
    "print(f\"Setup terminado ({end - start:.2f} s)\")"
   ]
  },
  {
   "cell_type": "markdown",
   "id": "5ed33e1d",
   "metadata": {},
   "source": [
    "## Carga de videos"
   ]
  },
  {
   "cell_type": "code",
   "execution_count": null,
   "id": "d138729e",
   "metadata": {},
   "outputs": [],
   "source": [
    "start = time.time()\n",
    "print(\"Empezando procesamiento...\")\n",
    "videos.process_videos(VIDEO_PATHS)\n",
    "end = time.time()\n",
    "print(f\"Procesamiento terminado ({end - start:.2f} s)\")"
   ]
  },
  {
   "cell_type": "markdown",
   "id": "8dc37ec8",
   "metadata": {},
   "source": [
    "## Búsqueda de videos"
   ]
  },
  {
   "cell_type": "code",
   "execution_count": null,
   "id": "d9ed9406",
   "metadata": {},
   "outputs": [],
   "source": [
    "start = time.time()\n",
    "print(\"Empezando búsqueda...\")\n",
    "search_type = \"Text\" # -Image si pasamos una foto\n",
    "text_search_query = \"Hola\"\n",
    "image_search_query = \n",
    "results = videos.search_video(search_type, \n",
    "                              text_search_query,\n",
    "                              limit=10)"
   ]
  }
 ],
 "metadata": {
  "kernelspec": {
   "display_name": "Python 3 (ipykernel)",
   "language": "python",
   "name": "python3"
  },
  "language_info": {
   "codemirror_mode": {
    "name": "ipython",
    "version": 3
   },
   "file_extension": ".py",
   "mimetype": "text/x-python",
   "name": "python",
   "nbconvert_exporter": "python",
   "pygments_lexer": "ipython3",
   "version": "3.12.5"
  }
 },
 "nbformat": 4,
 "nbformat_minor": 5
}
